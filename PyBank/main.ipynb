{
 "cells": [
  {
   "cell_type": "code",
   "execution_count": 41,
   "metadata": {},
   "outputs": [
    {
     "name": "stdout",
     "output_type": "stream",
     "text": [
      "Financial Analysis\n",
      "----------------------------\n",
      "Total Months: 86\n",
      "Total: $38382578\n",
      "Average  Change: $-2315.12\n",
      "Greatest Increase in Profits: Feb-12 ($1926159)\n",
      "Greatest Decrease in Losses: Sep-13 ($-2196167)\n",
      "\n"
     ]
    }
   ],
   "source": [
    "import csv\n",
    "from pathlib import Path\n",
    "\n",
    "sourcepath=Path(\"Resources/03_python_homework_Instructions_PyBank_Resources_budget_data.csv\")\n",
    "destpath=Path(\"Resources/analysis.txt\")\n",
    "\n",
    "total_number_of_months=0\n",
    "total_net_amount=0\n",
    "changelog={}\n",
    "\n",
    "def print_export_result():\n",
    "    with open(destpath,'w') as analysisFile:\n",
    "        result=\"Financial Analysis\\n\"\n",
    "        result+=\"----------------------------\\n\"\n",
    "        #The total number of months included in the dataset\n",
    "        result+=f\"Total Months: {total_number_of_months}\\n\"\n",
    "        #The total net amount of \"Profit/Losses\" over the entire period\n",
    "        result+=f\"Total: ${total_net_amount}\\n\"\n",
    "        #The average change in \"Profit/Losses\" between months over the entire period\n",
    "        average_change=round(sum(changelog.values())/(total_number_of_months-1),2)\n",
    "        result+=f\"Average  Change: ${average_change}\\n\"\n",
    "        #Greatest Increase in Profits\n",
    "        result+=f\"Greatest Increase in Profits: {max(changelog, key=changelog.get)} (${max(changelog.values())})\\n\"\n",
    "        #Greatest Decrease in Losses\n",
    "        result+=f\"Greatest Decrease in Losses: {min(changelog, key=changelog.get)} (${min(changelog.values())})\\n\"\n",
    "        analysisFile.write(result) \n",
    "        print(result)\n",
    "\n",
    "with open(sourcepath,encoding=\"utf-8\",newline='') as csvfile:\n",
    "    csvreader = csv.reader(csvfile, delimiter=',')\n",
    "    # Read the header row first\n",
    "    next(csvreader)\n",
    "\n",
    "    #first row\n",
    "    pre_line = next(csvreader)\n",
    "    while(True):\n",
    "        try:\n",
    "            total_number_of_months+=1\n",
    "            total_net_amount+=int(pre_line[1])\n",
    "            cur_line = next(csvreader)\n",
    "            changelog[cur_line[0]]=int(cur_line[1])-int(pre_line[1])\n",
    "            pre_line = cur_line\n",
    "        except:\n",
    "            break\n",
    "\n",
    "        \n",
    "print_export_result()\n",
    "\n"
   ]
  },
  {
   "cell_type": "code",
   "execution_count": null,
   "metadata": {},
   "outputs": [],
   "source": []
  }
 ],
 "metadata": {
  "kernelspec": {
   "display_name": "Python 3",
   "language": "python",
   "name": "python3"
  },
  "language_info": {
   "codemirror_mode": {
    "name": "ipython",
    "version": 3
   },
   "file_extension": ".py",
   "mimetype": "text/x-python",
   "name": "python",
   "nbconvert_exporter": "python",
   "pygments_lexer": "ipython3",
   "version": "3.7.1"
  }
 },
 "nbformat": 4,
 "nbformat_minor": 2
}
