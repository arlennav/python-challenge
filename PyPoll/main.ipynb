{
 "cells": [
  {
   "cell_type": "code",
   "execution_count": 11,
   "metadata": {},
   "outputs": [
    {
     "name": "stdout",
     "output_type": "stream",
     "text": [
      "Election Results\n",
      "----------------------------\n",
      "Total Votes: 3521001\n",
      "----------------------------\n",
      "Khan: 63.0% (2218231)\n",
      "Correy: 20.0% (704200)\n",
      "Li: 14.000000000000002% (492940)\n",
      "O'Tooley: 3.0% (105630)\n",
      "----------------------------\n",
      "Winner: Khan\n",
      "----------------------------\n",
      "\n"
     ]
    }
   ],
   "source": [
    "import csv\n",
    "from pathlib import Path\n",
    "\n",
    "sourcepath=Path(\"Resources/03_python_homework_Instructions_PyPoll_Resources_election_data.csv\")\n",
    "destpath=Path(\"Resources/analysis.txt\")\n",
    "\n",
    "total_number_of_votes=0\n",
    "dicCandidates={}\n",
    "\n",
    "def print_export_result():\n",
    "    with open(destpath,'w') as analysisFile:\n",
    "        result=\"Election Results\\n\"\n",
    "        result+=\"----------------------------\\n\"\n",
    "        result+=f\"Total Votes: {total_number_of_votes}\\n\"\n",
    "        result+=\"----------------------------\\n\"\n",
    "        for k,v in dicCandidates.items(): \n",
    "            candidatewon=round((v/total_number_of_votes),2)*100\n",
    "            result+=f\"{k}: {candidatewon}% ({v})\\n\"\n",
    "        result+=\"----------------------------\\n\"\n",
    "        result+=f\"Winner: {max(dicCandidates, key=dicCandidates.get)}\\n\"\n",
    "        result+=\"----------------------------\\n\"\n",
    "        analysisFile.write(result) \n",
    "        print(result)\n",
    "        \n",
    "with open(sourcepath,encoding=\"utf-8\",newline='') as csvfile:\n",
    "    csvreader = csv.reader(csvfile, delimiter=',')\n",
    "    # Read the header row first\n",
    "    next(csvreader)\n",
    "    for row in csvreader:\n",
    "        total_number_of_votes+=1\n",
    "        if row[2] in dicCandidates.keys():\n",
    "            dicCandidates[row[2]]+=1\n",
    "        else:\n",
    "            dicCandidates[row[2]]=1\n",
    "    \n",
    "print_export_result()\n"
   ]
  },
  {
   "cell_type": "code",
   "execution_count": null,
   "metadata": {},
   "outputs": [],
   "source": []
  }
 ],
 "metadata": {
  "kernelspec": {
   "display_name": "Python 3",
   "language": "python",
   "name": "python3"
  },
  "language_info": {
   "codemirror_mode": {
    "name": "ipython",
    "version": 3
   },
   "file_extension": ".py",
   "mimetype": "text/x-python",
   "name": "python",
   "nbconvert_exporter": "python",
   "pygments_lexer": "ipython3",
   "version": "3.7.1"
  }
 },
 "nbformat": 4,
 "nbformat_minor": 2
}
