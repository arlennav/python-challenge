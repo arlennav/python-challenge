{
 "cells": [
  {
   "cell_type": "code",
   "execution_count": null,
   "metadata": {},
   "outputs": [],
   "source": [
    "import csv\n",
    "from pathlib import Path\n",
    "\n",
    "sourcepath=Path(\"Resources/03_python_homework_Instructions_PyPoll_Resources_election_data.csv\")\n",
    "destpath=Path(\"Resources/analysis.txt\")\n",
    "\n",
    "\n",
    "total_number_of_months=0\n",
    "total_net_amount=0\n",
    "average_change=0\n",
    "\n",
    "greatest_increase_in_profits=dict()\n",
    "greatest_decrease_in_losses=dict()\n",
    "changelog={}\n",
    "\n",
    "with open(sourcepath,encoding=\"utf-8\",newline='') as csvfile:\n",
    "    csvreader = csv.reader(csvfile, delimiter=',')\n",
    "    # Read the header row first\n",
    "    next(csvreader)\n",
    "\n",
    "    #first row\n",
    "    pre_line = next(csvreader)\n",
    "    while(True):\n",
    "        try:\n",
    "            total_number_of_months+=1\n",
    "            total_net_amount+=int(pre_line[1])\n",
    "            cur_line = next(csvreader)\n",
    "            changelog[cur_line[0]]=int(cur_line[1])-int(pre_line[1])\n",
    "            pre_line = cur_line\n",
    "        except:\n",
    "            break\n",
    "        \n",
    "\n",
    "print(\"Financial Analysis\")\n",
    "print(\"----------------------------\")\n",
    "#The total number of months included in the dataset\n",
    "print(f\"Total Months: {total_number_of_months}\")\n",
    "#The total net amount of \"Profit/Losses\" over the entire period\n",
    "print(f\"Total: ${total_net_amount}\")\n",
    "#The average change in \"Profit/Losses\" between months over the entire period\n",
    "average_change=round(sum(changelog.values())/(total_number_of_months-1),2)\n",
    "print(f\"Average  Change: ${average_change}\")\n",
    "#Greatest Increase in Profits\n",
    "print(f\"Greatest Increase in Profits: {max(changelog, key=changelog.get)} (${max(changelog.values())})\")\n",
    "#Greatest Decrease in Losses\n",
    "print(f\"Greatest Decrease in Losses: {min(changelog, key=changelog.get)} (${min(changelog.values())})\")\n"
   ]
  }
 ],
 "metadata": {
  "kernelspec": {
   "display_name": "Python 3",
   "language": "python",
   "name": "python3"
  },
  "language_info": {
   "codemirror_mode": {
    "name": "ipython",
    "version": 3
   },
   "file_extension": ".py",
   "mimetype": "text/x-python",
   "name": "python",
   "nbconvert_exporter": "python",
   "pygments_lexer": "ipython3",
   "version": "3.7.1"
  }
 },
 "nbformat": 4,
 "nbformat_minor": 2
}
